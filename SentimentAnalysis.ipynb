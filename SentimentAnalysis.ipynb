{
 "cells": [
  {
   "cell_type": "markdown",
   "metadata": {},
   "source": [
    "## imports"
   ]
  },
  {
   "cell_type": "code",
   "execution_count": 1,
   "metadata": {},
   "outputs": [],
   "source": [
    "import sqlite3\n",
    "from sqlite3 import Error\n",
    "\n",
    "import string\n",
    "import numpy as np\n",
    "import pandas as pd\n",
    "import seaborn as sns\n",
    "import matplotlib.pyplot as plt\n",
    "\n",
    "import nltk\n",
    "from nltk.corpus import wordnet\n",
    "from nltk.corpus import stopwords\n",
    "from nltk.tokenize import word_tokenize\n",
    "from nltk.stem import WordNetLemmatizer\n",
    "from nltk.stem.porter import PorterStemmer\n",
    "\n",
    "from sklearn.svm import LinearSVC\n",
    "from sklearn.preprocessing import StandardScaler\n",
    "from sklearn.linear_model import LogisticRegression\n",
    "from sklearn.model_selection import train_test_split\n",
    "from sklearn.feature_extraction.text import CountVectorizer, TfidfVectorizer\n",
    "from sklearn.metrics import accuracy_score, confusion_matrix,classification_report"
   ]
  },
  {
   "cell_type": "markdown",
   "metadata": {},
   "source": [
    "## helpers"
   ]
  },
  {
   "cell_type": "code",
   "execution_count": 2,
   "metadata": {},
   "outputs": [],
   "source": [
    "def create_connection(db_file):\n",
    "    \"\"\" \n",
    "    create a database connection to a SQLite database specified by the db_file\n",
    "    :param db_file: path to database file\n",
    "    :return: Connection object or None\n",
    "    \"\"\"\n",
    "    conn = None\n",
    "    try:\n",
    "        conn = sqlite3.connect(db_file)\n",
    "    except Error as e:\n",
    "        print(e)\n",
    "    return conn\n",
    "\n",
    "def run_query(conn, query):\n",
    "    \"\"\"\n",
    "    query all rows in the tasks table\n",
    "    :param conn: the Connection object\n",
    "    :param query: query used on db\n",
    "    :return:\n",
    "    \"\"\"\n",
    "    cur = conn.cursor()\n",
    "    cur.execute(query)\n",
    "    rows = cur.fetchall()\n",
    "    return rows\n",
    "\n",
    "def get_X_and_Y(conn, query):\n",
    "    \"\"\"\n",
    "    query all rows in the tasks table, and get X and Y\n",
    "    :param conn: the Connection object\n",
    "    :param query: query used on db\n",
    "    :return X: features\n",
    "    :return Y: flagged\n",
    "    \"\"\"\n",
    "    cur = conn.cursor()\n",
    "    cur.execute(query)\n",
    "    rows = cur.fetchall()\n",
    "    X = []\n",
    "    Y = []\n",
    "    for row in rows:\n",
    "        X.append(row[:8] + row[9:])\n",
    "        Y.append(row[8])\n",
    "    return X, Y\n",
    "\n",
    "def refine_col_names(list):\n",
    "    names = []\n",
    "    for col_info in list:\n",
    "        names.append(col_info[1])\n",
    "    return names\n",
    "\n",
    "def refine_col_names_wout_flag(list):\n",
    "    names = []\n",
    "    for i in range(len(list)):\n",
    "        if i != 8:\n",
    "            names.append(list[i][1])\n",
    "    return names\n",
    "\n",
    "def close_connection(conn):\n",
    "    \"\"\"\n",
    "    close database connection\n",
    "    \"\"\"\n",
    "    if conn:\n",
    "        conn.close()"
   ]
  },
  {
   "cell_type": "markdown",
   "metadata": {},
   "source": [
    "## connect to db"
   ]
  },
  {
   "cell_type": "code",
   "execution_count": 3,
   "metadata": {},
   "outputs": [],
   "source": [
    "pd.options.mode.chained_assignment = None  # default='warn'\n",
    "\n",
    "db_path = \"filteredData/yelpResData.db\"\n",
    "conn = create_connection(db_path)\n",
    "conn.text_factory = lambda b: b.decode(errors = 'ignore')"
   ]
  },
  {
   "cell_type": "markdown",
   "metadata": {},
   "source": [
    "## get reviews from database"
   ]
  },
  {
   "cell_type": "code",
   "execution_count": 4,
   "metadata": {},
   "outputs": [
    {
     "data": {
      "text/html": [
       "<div>\n",
       "<style scoped>\n",
       "    .dataframe tbody tr th:only-of-type {\n",
       "        vertical-align: middle;\n",
       "    }\n",
       "\n",
       "    .dataframe tbody tr th {\n",
       "        vertical-align: top;\n",
       "    }\n",
       "\n",
       "    .dataframe thead th {\n",
       "        text-align: right;\n",
       "    }\n",
       "</style>\n",
       "<table border=\"1\" class=\"dataframe\">\n",
       "  <thead>\n",
       "    <tr style=\"text-align: right;\">\n",
       "      <th></th>\n",
       "      <th>date</th>\n",
       "      <th>reviewID</th>\n",
       "      <th>reviewerID</th>\n",
       "      <th>reviewContent</th>\n",
       "      <th>rating</th>\n",
       "      <th>usefulCount</th>\n",
       "      <th>coolCount</th>\n",
       "      <th>funnyCount</th>\n",
       "      <th>flagged</th>\n",
       "      <th>restaurantID</th>\n",
       "    </tr>\n",
       "  </thead>\n",
       "  <tbody>\n",
       "    <tr>\n",
       "      <th>0</th>\n",
       "      <td>9/22/2012</td>\n",
       "      <td>GtwU21YOQn-wf4vWRUIx6w</td>\n",
       "      <td>bNYesZ944s6IJVowOnB0iA</td>\n",
       "      <td>Unlike Next, which we'd eaten at the previous ...</td>\n",
       "      <td>5</td>\n",
       "      <td>0</td>\n",
       "      <td>0</td>\n",
       "      <td>0</td>\n",
       "      <td>N</td>\n",
       "      <td>pbEiXam9YJL3neCYHGwLUA</td>\n",
       "    </tr>\n",
       "    <tr>\n",
       "      <th>1</th>\n",
       "      <td>9/22/2012</td>\n",
       "      <td>0LpVTc3</td>\n",
       "      <td>TRKxLC3y-ZvP45e5iilMtw</td>\n",
       "      <td>Probably one of the best meals I've had ever. ...</td>\n",
       "      <td>5</td>\n",
       "      <td>0</td>\n",
       "      <td>0</td>\n",
       "      <td>0</td>\n",
       "      <td>N</td>\n",
       "      <td>pbEiXam9YJL3neCYHGwLUA</td>\n",
       "    </tr>\n",
       "    <tr>\n",
       "      <th>2</th>\n",
       "      <td>9/19/2012</td>\n",
       "      <td>tljtLzf68Fkwf</td>\n",
       "      <td>0EMm8umAqXZzyhxNpL4M9g</td>\n",
       "      <td>Service was impeccable. Experience and present...</td>\n",
       "      <td>3</td>\n",
       "      <td>2</td>\n",
       "      <td>0</td>\n",
       "      <td>0</td>\n",
       "      <td>N</td>\n",
       "      <td>pbEiXam9YJL3neCYHGwLUA</td>\n",
       "    </tr>\n",
       "    <tr>\n",
       "      <th>3</th>\n",
       "      <td>9/6/2012</td>\n",
       "      <td>iSN</td>\n",
       "      <td>DlwexC7z88ymAzu45skODw</td>\n",
       "      <td>The problem with places like this, given the e...</td>\n",
       "      <td>3</td>\n",
       "      <td>8</td>\n",
       "      <td>0</td>\n",
       "      <td>3</td>\n",
       "      <td>N</td>\n",
       "      <td>pbEiXam9YJL3neCYHGwLUA</td>\n",
       "    </tr>\n",
       "    <tr>\n",
       "      <th>4</th>\n",
       "      <td>9/9/2012</td>\n",
       "      <td>Jmwrh7</td>\n",
       "      <td>kW2dk1CWihmh3g7k9N2G8A</td>\n",
       "      <td>I have no idea how to write my review - dining...</td>\n",
       "      <td>5</td>\n",
       "      <td>1</td>\n",
       "      <td>2</td>\n",
       "      <td>0</td>\n",
       "      <td>N</td>\n",
       "      <td>pbEiXam9YJL3neCYHGwLUA</td>\n",
       "    </tr>\n",
       "  </tbody>\n",
       "</table>\n",
       "</div>"
      ],
      "text/plain": [
       "        date                reviewID              reviewerID  \\\n",
       "0  9/22/2012  GtwU21YOQn-wf4vWRUIx6w  bNYesZ944s6IJVowOnB0iA   \n",
       "1  9/22/2012                 0LpVTc3  TRKxLC3y-ZvP45e5iilMtw   \n",
       "2  9/19/2012           tljtLzf68Fkwf  0EMm8umAqXZzyhxNpL4M9g   \n",
       "3   9/6/2012                     iSN  DlwexC7z88ymAzu45skODw   \n",
       "4   9/9/2012                  Jmwrh7  kW2dk1CWihmh3g7k9N2G8A   \n",
       "\n",
       "                                       reviewContent  rating  usefulCount  \\\n",
       "0  Unlike Next, which we'd eaten at the previous ...       5            0   \n",
       "1  Probably one of the best meals I've had ever. ...       5            0   \n",
       "2  Service was impeccable. Experience and present...       3            2   \n",
       "3  The problem with places like this, given the e...       3            8   \n",
       "4  I have no idea how to write my review - dining...       5            1   \n",
       "\n",
       "   coolCount  funnyCount flagged            restaurantID  \n",
       "0          0           0       N  pbEiXam9YJL3neCYHGwLUA  \n",
       "1          0           0       N  pbEiXam9YJL3neCYHGwLUA  \n",
       "2          0           0       N  pbEiXam9YJL3neCYHGwLUA  \n",
       "3          0           3       N  pbEiXam9YJL3neCYHGwLUA  \n",
       "4          2           0       N  pbEiXam9YJL3neCYHGwLUA  "
      ]
     },
     "execution_count": 4,
     "metadata": {},
     "output_type": "execute_result"
    }
   ],
   "source": [
    "# get restaurant filtered reviews & regular reviews\n",
    "reviews_list = run_query(conn, \"SELECT * FROM review WHERE flagged IN ('Y', 'N')\")\n",
    "col_names = refine_col_names(run_query(conn, \"PRAGMA table_info('review')\"))\n",
    "\n",
    "# turn list to dataframe\n",
    "reviews = pd.DataFrame(reviews_list, columns=col_names)\n",
    "\n",
    "reviews.head()"
   ]
  },
  {
   "cell_type": "markdown",
   "metadata": {},
   "source": [
    "## get the data we are going to use & change flag to int"
   ]
  },
  {
   "cell_type": "code",
   "execution_count": 5,
   "metadata": {},
   "outputs": [
    {
     "data": {
      "text/html": [
       "<div>\n",
       "<style scoped>\n",
       "    .dataframe tbody tr th:only-of-type {\n",
       "        vertical-align: middle;\n",
       "    }\n",
       "\n",
       "    .dataframe tbody tr th {\n",
       "        vertical-align: top;\n",
       "    }\n",
       "\n",
       "    .dataframe thead th {\n",
       "        text-align: right;\n",
       "    }\n",
       "</style>\n",
       "<table border=\"1\" class=\"dataframe\">\n",
       "  <thead>\n",
       "    <tr style=\"text-align: right;\">\n",
       "      <th></th>\n",
       "      <th>reviewContent</th>\n",
       "      <th>flagged</th>\n",
       "    </tr>\n",
       "  </thead>\n",
       "  <tbody>\n",
       "    <tr>\n",
       "      <th>0</th>\n",
       "      <td>Unlike Next, which we'd eaten at the previous ...</td>\n",
       "      <td>0</td>\n",
       "    </tr>\n",
       "    <tr>\n",
       "      <th>1</th>\n",
       "      <td>Probably one of the best meals I've had ever. ...</td>\n",
       "      <td>0</td>\n",
       "    </tr>\n",
       "    <tr>\n",
       "      <th>2</th>\n",
       "      <td>Service was impeccable. Experience and present...</td>\n",
       "      <td>0</td>\n",
       "    </tr>\n",
       "    <tr>\n",
       "      <th>3</th>\n",
       "      <td>The problem with places like this, given the e...</td>\n",
       "      <td>0</td>\n",
       "    </tr>\n",
       "    <tr>\n",
       "      <th>4</th>\n",
       "      <td>I have no idea how to write my review - dining...</td>\n",
       "      <td>0</td>\n",
       "    </tr>\n",
       "  </tbody>\n",
       "</table>\n",
       "</div>"
      ],
      "text/plain": [
       "                                       reviewContent  flagged\n",
       "0  Unlike Next, which we'd eaten at the previous ...        0\n",
       "1  Probably one of the best meals I've had ever. ...        0\n",
       "2  Service was impeccable. Experience and present...        0\n",
       "3  The problem with places like this, given the e...        0\n",
       "4  I have no idea how to write my review - dining...        0"
      ]
     },
     "execution_count": 5,
     "metadata": {},
     "output_type": "execute_result"
    }
   ],
   "source": [
    "data = reviews[['reviewContent','flagged']]\n",
    "data['flagged'] = data['flagged'].replace({'Y':1, 'N':0})\n",
    "data.head()"
   ]
  },
  {
   "cell_type": "markdown",
   "metadata": {},
   "source": [
    "## data cleaning"
   ]
  },
  {
   "cell_type": "code",
   "execution_count": 6,
   "metadata": {},
   "outputs": [
    {
     "data": {
      "text/html": [
       "<div>\n",
       "<style scoped>\n",
       "    .dataframe tbody tr th:only-of-type {\n",
       "        vertical-align: middle;\n",
       "    }\n",
       "\n",
       "    .dataframe tbody tr th {\n",
       "        vertical-align: top;\n",
       "    }\n",
       "\n",
       "    .dataframe thead th {\n",
       "        text-align: right;\n",
       "    }\n",
       "</style>\n",
       "<table border=\"1\" class=\"dataframe\">\n",
       "  <thead>\n",
       "    <tr style=\"text-align: right;\">\n",
       "      <th></th>\n",
       "      <th>reviewContent</th>\n",
       "      <th>flagged</th>\n",
       "    </tr>\n",
       "  </thead>\n",
       "  <tbody>\n",
       "    <tr>\n",
       "      <th>0</th>\n",
       "      <td>unlike next, which we'd eaten at the previous ...</td>\n",
       "      <td>0</td>\n",
       "    </tr>\n",
       "    <tr>\n",
       "      <th>1</th>\n",
       "      <td>probably one of the best meals i've had ever. ...</td>\n",
       "      <td>0</td>\n",
       "    </tr>\n",
       "    <tr>\n",
       "      <th>2</th>\n",
       "      <td>service was impeccable. experience and present...</td>\n",
       "      <td>0</td>\n",
       "    </tr>\n",
       "    <tr>\n",
       "      <th>3</th>\n",
       "      <td>the problem with places like this, given the e...</td>\n",
       "      <td>0</td>\n",
       "    </tr>\n",
       "    <tr>\n",
       "      <th>4</th>\n",
       "      <td>i have no idea how to write my review - dining...</td>\n",
       "      <td>0</td>\n",
       "    </tr>\n",
       "  </tbody>\n",
       "</table>\n",
       "</div>"
      ],
      "text/plain": [
       "                                       reviewContent  flagged\n",
       "0  unlike next, which we'd eaten at the previous ...        0\n",
       "1  probably one of the best meals i've had ever. ...        0\n",
       "2  service was impeccable. experience and present...        0\n",
       "3  the problem with places like this, given the e...        0\n",
       "4  i have no idea how to write my review - dining...        0"
      ]
     },
     "execution_count": 6,
     "metadata": {},
     "output_type": "execute_result"
    }
   ],
   "source": [
    "def lower_case(text):\n",
    "    return text.lower()\n",
    "\n",
    "data['reviewContent'] = data['reviewContent'].apply(lower_case)\n",
    "data.head()"
   ]
  },
  {
   "cell_type": "code",
   "execution_count": 7,
   "metadata": {},
   "outputs": [
    {
     "data": {
      "text/html": [
       "<div>\n",
       "<style scoped>\n",
       "    .dataframe tbody tr th:only-of-type {\n",
       "        vertical-align: middle;\n",
       "    }\n",
       "\n",
       "    .dataframe tbody tr th {\n",
       "        vertical-align: top;\n",
       "    }\n",
       "\n",
       "    .dataframe thead th {\n",
       "        text-align: right;\n",
       "    }\n",
       "</style>\n",
       "<table border=\"1\" class=\"dataframe\">\n",
       "  <thead>\n",
       "    <tr style=\"text-align: right;\">\n",
       "      <th></th>\n",
       "      <th>reviewContent</th>\n",
       "      <th>flagged</th>\n",
       "    </tr>\n",
       "  </thead>\n",
       "  <tbody>\n",
       "    <tr>\n",
       "      <th>0</th>\n",
       "      <td>unlike next which wed eaten at the previous ni...</td>\n",
       "      <td>0</td>\n",
       "    </tr>\n",
       "    <tr>\n",
       "      <th>1</th>\n",
       "      <td>probably one of the best meals ive had ever  i...</td>\n",
       "      <td>0</td>\n",
       "    </tr>\n",
       "    <tr>\n",
       "      <th>2</th>\n",
       "      <td>service was impeccable experience and presenta...</td>\n",
       "      <td>0</td>\n",
       "    </tr>\n",
       "    <tr>\n",
       "      <th>3</th>\n",
       "      <td>the problem with places like this given the ex...</td>\n",
       "      <td>0</td>\n",
       "    </tr>\n",
       "    <tr>\n",
       "      <th>4</th>\n",
       "      <td>i have no idea how to write my review  dining ...</td>\n",
       "      <td>0</td>\n",
       "    </tr>\n",
       "  </tbody>\n",
       "</table>\n",
       "</div>"
      ],
      "text/plain": [
       "                                       reviewContent  flagged\n",
       "0  unlike next which wed eaten at the previous ni...        0\n",
       "1  probably one of the best meals ive had ever  i...        0\n",
       "2  service was impeccable experience and presenta...        0\n",
       "3  the problem with places like this given the ex...        0\n",
       "4  i have no idea how to write my review  dining ...        0"
      ]
     },
     "execution_count": 7,
     "metadata": {},
     "output_type": "execute_result"
    }
   ],
   "source": [
    "def remove_punctuation(text):\n",
    "    return text.translate(str.maketrans('', '', string.punctuation))\n",
    "\n",
    "data['reviewContent'] = data['reviewContent'].apply(remove_punctuation)\n",
    "data.head()"
   ]
  },
  {
   "cell_type": "code",
   "execution_count": 8,
   "metadata": {},
   "outputs": [
    {
     "data": {
      "text/html": [
       "<div>\n",
       "<style scoped>\n",
       "    .dataframe tbody tr th:only-of-type {\n",
       "        vertical-align: middle;\n",
       "    }\n",
       "\n",
       "    .dataframe tbody tr th {\n",
       "        vertical-align: top;\n",
       "    }\n",
       "\n",
       "    .dataframe thead th {\n",
       "        text-align: right;\n",
       "    }\n",
       "</style>\n",
       "<table border=\"1\" class=\"dataframe\">\n",
       "  <thead>\n",
       "    <tr style=\"text-align: right;\">\n",
       "      <th></th>\n",
       "      <th>reviewContent</th>\n",
       "      <th>flagged</th>\n",
       "    </tr>\n",
       "  </thead>\n",
       "  <tbody>\n",
       "    <tr>\n",
       "      <th>0</th>\n",
       "      <td>unlike next wed eaten previous night dish comp...</td>\n",
       "      <td>0</td>\n",
       "    </tr>\n",
       "    <tr>\n",
       "      <th>1</th>\n",
       "      <td>probably one best meals ive ever performance f...</td>\n",
       "      <td>0</td>\n",
       "    </tr>\n",
       "    <tr>\n",
       "      <th>2</th>\n",
       "      <td>service impeccable experience presentation coo...</td>\n",
       "      <td>0</td>\n",
       "    </tr>\n",
       "    <tr>\n",
       "      <th>3</th>\n",
       "      <td>problem places like given exhorbitant cost med...</td>\n",
       "      <td>0</td>\n",
       "    </tr>\n",
       "    <tr>\n",
       "      <th>4</th>\n",
       "      <td>idea write review dining alinea brings whole d...</td>\n",
       "      <td>0</td>\n",
       "    </tr>\n",
       "  </tbody>\n",
       "</table>\n",
       "</div>"
      ],
      "text/plain": [
       "                                       reviewContent  flagged\n",
       "0  unlike next wed eaten previous night dish comp...        0\n",
       "1  probably one best meals ive ever performance f...        0\n",
       "2  service impeccable experience presentation coo...        0\n",
       "3  problem places like given exhorbitant cost med...        0\n",
       "4  idea write review dining alinea brings whole d...        0"
      ]
     },
     "execution_count": 8,
     "metadata": {},
     "output_type": "execute_result"
    }
   ],
   "source": [
    "stop_words = stopwords.words('english')\n",
    "\n",
    "def remove_stop_words(text):\n",
    "    return \" \".join([word for word in str(text).split() if word not in stop_words])\n",
    "\n",
    "data['reviewContent'] = data['reviewContent'].apply(remove_stop_words)\n",
    "data.head()"
   ]
  },
  {
   "cell_type": "code",
   "execution_count": 9,
   "metadata": {},
   "outputs": [
    {
     "data": {
      "text/html": [
       "<div>\n",
       "<style scoped>\n",
       "    .dataframe tbody tr th:only-of-type {\n",
       "        vertical-align: middle;\n",
       "    }\n",
       "\n",
       "    .dataframe tbody tr th {\n",
       "        vertical-align: top;\n",
       "    }\n",
       "\n",
       "    .dataframe thead th {\n",
       "        text-align: right;\n",
       "    }\n",
       "</style>\n",
       "<table border=\"1\" class=\"dataframe\">\n",
       "  <thead>\n",
       "    <tr style=\"text-align: right;\">\n",
       "      <th></th>\n",
       "      <th>reviewContent</th>\n",
       "      <th>flagged</th>\n",
       "    </tr>\n",
       "  </thead>\n",
       "  <tbody>\n",
       "    <tr>\n",
       "      <th>0</th>\n",
       "      <td>unlike next wed eaten previous night dish comp...</td>\n",
       "      <td>0</td>\n",
       "    </tr>\n",
       "    <tr>\n",
       "      <th>1</th>\n",
       "      <td>probably one best meal ive ever performance fo...</td>\n",
       "      <td>0</td>\n",
       "    </tr>\n",
       "    <tr>\n",
       "      <th>2</th>\n",
       "      <td>service impeccable experience presentation coo...</td>\n",
       "      <td>0</td>\n",
       "    </tr>\n",
       "    <tr>\n",
       "      <th>3</th>\n",
       "      <td>problem place like give exhorbitant cost mediu...</td>\n",
       "      <td>0</td>\n",
       "    </tr>\n",
       "    <tr>\n",
       "      <th>4</th>\n",
       "      <td>idea write review din alinea brings whole diff...</td>\n",
       "      <td>0</td>\n",
       "    </tr>\n",
       "  </tbody>\n",
       "</table>\n",
       "</div>"
      ],
      "text/plain": [
       "                                       reviewContent  flagged\n",
       "0  unlike next wed eaten previous night dish comp...        0\n",
       "1  probably one best meal ive ever performance fo...        0\n",
       "2  service impeccable experience presentation coo...        0\n",
       "3  problem place like give exhorbitant cost mediu...        0\n",
       "4  idea write review din alinea brings whole diff...        0"
      ]
     },
     "execution_count": 9,
     "metadata": {},
     "output_type": "execute_result"
    }
   ],
   "source": [
    "# lemmatizer = WordNetLemmatizer()\n",
    "\n",
    "# def lemmatize_words(text):\n",
    "#     return \" \".join([lemmatizer.lemmatize(word) for word in text.split()])\n",
    "\n",
    "lemmatizer = WordNetLemmatizer()\n",
    "wordnet_map = {\"N\":wordnet.NOUN, \"V\":wordnet.VERB, \"J\":wordnet.ADJ, \"R\":wordnet.ADV}\n",
    "\n",
    "def lemmatize_words(text):\n",
    "    pos_tagged_text = nltk.pos_tag(text.split())\n",
    "    return \" \".join([lemmatizer.lemmatize(word, wordnet_map.get(pos[0], wordnet.NOUN)) for word, pos in pos_tagged_text])\n",
    "\n",
    "data['reviewContent'] = data['reviewContent'].apply(lemmatize_words)\n",
    "data.head()"
   ]
  },
  {
   "cell_type": "code",
   "execution_count": 10,
   "metadata": {},
   "outputs": [],
   "source": [
    "# def clean_text(text) :\n",
    "#     # cast characters to lower case\n",
    "#     lower = text.lower()\n",
    "#     # remove stopwords\n",
    "#     no_stop_words = \" \".join([word for word in str(lower).split() if word not in stop_words])\n",
    "#     # remove punctuation\n",
    "#     no_punc = no_stop_words.translate(str.maketrans('', '', string.punctuation))\n",
    "#     # lemmatization\n",
    "#     lammatized = \" \".join([lemmatizer.lemmatize(word) for word in no_punc.split()])\n",
    "#     return lammatized\n",
    "\n",
    "# data['reviewContent'] = data['reviewContent'].apply(clean_text)\n",
    "# data.head()"
   ]
  },
  {
   "cell_type": "code",
   "execution_count": 11,
   "metadata": {},
   "outputs": [],
   "source": [
    "# split reviews into training set and testing set\n",
    "X_train, X_test, y_train, y_test = train_test_split(data['reviewContent'], data['flagged'], train_size=0.75)"
   ]
  },
  {
   "cell_type": "code",
   "execution_count": 12,
   "metadata": {},
   "outputs": [],
   "source": [
    "# count vectorizor\n",
    "count_vectorizor = CountVectorizer()\n",
    "count_vectorizor.fit(X_train)\n",
    "X_cv = count_vectorizor.transform(X_train)\n",
    "X_cv_test = count_vectorizor.transform(X_test)"
   ]
  },
  {
   "cell_type": "code",
   "execution_count": 13,
   "metadata": {},
   "outputs": [],
   "source": [
    "# count vectorizor ngram\n",
    "count_ngram_vectorizor = CountVectorizer(ngram_range=(1, 2))\n",
    "count_ngram_vectorizor.fit(X_train)\n",
    "X_cv_ngram = count_ngram_vectorizor.transform(X_train)\n",
    "X_cv_ngram_test = count_ngram_vectorizor.transform(X_test)"
   ]
  },
  {
   "cell_type": "code",
   "execution_count": 14,
   "metadata": {},
   "outputs": [],
   "source": [
    "# tf-idf vectorizor\n",
    "tfidf_vectorizor = TfidfVectorizer()\n",
    "tfidf_vectorizor.fit(X_train)\n",
    "X_tv = tfidf_vectorizor.transform(X_train)\n",
    "X_tv_test = tfidf_vectorizor.transform(X_test)"
   ]
  },
  {
   "cell_type": "code",
   "execution_count": 15,
   "metadata": {},
   "outputs": [],
   "source": [
    "# tf-idf vectorizor ngram\n",
    "tfidf_ngram_vectorizor = TfidfVectorizer(ngram_range=(1, 2))\n",
    "tfidf_ngram_vectorizor.fit(X_train)\n",
    "X_tv_ngram = tfidf_ngram_vectorizor.transform(X_train)\n",
    "X_tv_ngram_test = tfidf_ngram_vectorizor.transform(X_test)"
   ]
  },
  {
   "cell_type": "code",
   "execution_count": 25,
   "metadata": {},
   "outputs": [
    {
     "name": "stdout",
     "output_type": "stream",
     "text": [
      "Accuracy for C = 0.01 : 0.8759773202029245\n",
      "Accuracy for C = 0.05 : 0.8759773202029245\n",
      "Accuracy for C = 0.25 : 0.8724559832885705\n",
      "Accuracy for C = 0.5 : 0.8691136974037601\n",
      "Accuracy for C = 1 : 0.8654133094598627\n"
     ]
    }
   ],
   "source": [
    "# logistic regression w/ count vectorizor\n",
    "for c in [0.01, 0.05, 0.25, 0.5, 1]:\n",
    "    lr_cv = LogisticRegression(C=c, max_iter=500000)\n",
    "    lr_cv.fit(X_cv, y_train)\n",
    "    print(\"Accuracy for C = %s : %s\" % (c, accuracy_score(y_test, lr_cv.predict(X_cv_test))))"
   ]
  },
  {
   "cell_type": "code",
   "execution_count": 26,
   "metadata": {},
   "outputs": [
    {
     "name": "stdout",
     "output_type": "stream",
     "text": [
      "Accuracy for C = 0.01 : 0.8756789018203521\n",
      "Accuracy for C = 0.05 : 0.8762160549089824\n",
      "Accuracy for C = 0.25 : 0.8729931363772009\n",
      "Accuracy for C = 0.5 : 0.8716800954938825\n",
      "Accuracy for C = 1 : 0.8696508504923903\n"
     ]
    }
   ],
   "source": [
    "# logistic regression w/ count vectorizor ngram\n",
    "for c in [0.01, 0.05, 0.25, 0.5, 1]:\n",
    "    lr_cv_ngram = LogisticRegression(C=c, max_iter=500000)\n",
    "    lr_cv_ngram.fit(X_cv_ngram, y_train)\n",
    "    print(\"Accuracy for C = %s : %s\" % (c, accuracy_score(y_test, lr_cv_ngram.predict(X_cv_ngram_test))))"
   ]
  },
  {
   "cell_type": "code",
   "execution_count": 27,
   "metadata": {},
   "outputs": [
    {
     "name": "stdout",
     "output_type": "stream",
     "text": [
      "Accuracy for C = 0.01 : 0.8757385854968666\n",
      "Accuracy for C = 0.05 : 0.8757385854968666\n",
      "Accuracy for C = 0.25 : 0.876037003879439\n",
      "Accuracy for C = 0.5 : 0.8762757385854969\n",
      "Accuracy for C = 1 : 0.8768725753506416\n"
     ]
    }
   ],
   "source": [
    "# logistic regression w/ tf-idf vectorizor\n",
    "for c in [0.01, 0.05, 0.25, 0.5, 1]:\n",
    "    lr_tv = LogisticRegression(C=c, max_iter=500000)\n",
    "    lr_tv.fit(X_tv, y_train)\n",
    "    print(\"Accuracy for C = %s : %s\" % (c, accuracy_score(y_test, lr_tv.predict(X_tv_test))))"
   ]
  },
  {
   "cell_type": "code",
   "execution_count": 28,
   "metadata": {},
   "outputs": [
    {
     "name": "stdout",
     "output_type": "stream",
     "text": [
      "Accuracy for C = 0.01 : 0.8757385854968666\n",
      "Accuracy for C = 0.05 : 0.8757385854968666\n",
      "Accuracy for C = 0.25 : 0.8759176365264101\n",
      "Accuracy for C = 0.5 : 0.8757385854968666\n",
      "Accuracy for C = 1 : 0.8761563712324679\n"
     ]
    }
   ],
   "source": [
    "# logistic regression w/ tf-idf vectorizor ngram\n",
    "for c in [0.01, 0.05, 0.25, 0.5, 1]:\n",
    "    lr_tv_ngram = LogisticRegression(C=c, max_iter=500000)\n",
    "    lr_tv_ngram.fit(X_tv_ngram, y_train)\n",
    "    print(\"Accuracy for C = %s : %s\" % (c, accuracy_score(y_test, lr_tv_ngram.predict(X_tv_ngram_test))))"
   ]
  },
  {
   "cell_type": "code",
   "execution_count": 29,
   "metadata": {},
   "outputs": [
    {
     "name": "stdout",
     "output_type": "stream",
     "text": [
      "Accuracy for C = 0.01 : 0.8754401671142943\n",
      "Accuracy for C = 0.05 : 0.8710832587287377\n",
      "Accuracy for C = 0.25 : 0.8572366457773799\n",
      "Accuracy for C = 0.5 : 0.8494777678304983\n",
      "Accuracy for C = 1 : 0.8377200835571471\n"
     ]
    }
   ],
   "source": [
    "# linear SVM w/ count vectorizor\n",
    "for c in [0.01, 0.05, 0.25, 0.5, 1]:\n",
    "    svm_cv = LinearSVC(C=c, max_iter=500000)\n",
    "    svm_cv.fit(X_cv, y_train)\n",
    "    print(\"Accuracy for C = %s : %s\" % (c, accuracy_score(y_test, svm_cv.predict(X_cv_test))))"
   ]
  },
  {
   "cell_type": "code",
   "execution_count": 30,
   "metadata": {},
   "outputs": [
    {
     "name": "stdout",
     "output_type": "stream",
     "text": [
      "Accuracy for C = 0.01 : 0.8752014324082363\n",
      "Accuracy for C = 0.05 : 0.8666069829901522\n",
      "Accuracy for C = 0.25 : 0.8533572068039391\n",
      "Accuracy for C = 0.5 : 0.8460161145926589\n",
      "Accuracy for C = 1 : 0.8393315428230379\n"
     ]
    }
   ],
   "source": [
    "# linear SVM w/ count vectorizor ngram\n",
    "for c in [0.01, 0.05, 0.25, 0.5, 1]:\n",
    "    svm_cv_ngram = LinearSVC(C=c, max_iter=500000)\n",
    "    svm_cv_ngram.fit(X_cv_ngram, y_train)\n",
    "    print(\"Accuracy for C = %s : %s\" % (c, accuracy_score(y_test, svm_cv_ngram.predict(X_cv_ngram_test))))"
   ]
  },
  {
   "cell_type": "code",
   "execution_count": 31,
   "metadata": {},
   "outputs": [
    {
     "name": "stdout",
     "output_type": "stream",
     "text": [
      "Accuracy for C = 0.01 : 0.8757385854968666\n",
      "Accuracy for C = 0.05 : 0.8757385854968666\n",
      "Accuracy for C = 0.25 : 0.8765144732915547\n",
      "Accuracy for C = 0.5 : 0.8756789018203521\n",
      "Accuracy for C = 1 : 0.8718591465234259\n"
     ]
    }
   ],
   "source": [
    "# linear SVM w/ tf-idf vectorizor\n",
    "for c in [0.01, 0.05, 0.25, 0.5, 1]:\n",
    "    svm_tv = LinearSVC(C=c, max_iter=500000)\n",
    "    svm_tv.fit(X_tv, y_train)\n",
    "    print(\"Accuracy for C = %s : %s\" % (c, accuracy_score(y_test, svm_tv.predict(X_tv_test))))"
   ]
  },
  {
   "cell_type": "code",
   "execution_count": 32,
   "metadata": {},
   "outputs": [
    {
     "name": "stdout",
     "output_type": "stream",
     "text": [
      "Accuracy for C = 0.01 : 0.8757385854968666\n",
      "Accuracy for C = 0.05 : 0.8758579528498955\n",
      "Accuracy for C = 0.25 : 0.8759773202029245\n",
      "Accuracy for C = 0.5 : 0.8758579528498955\n",
      "Accuracy for C = 1 : 0.8751417487317219\n"
     ]
    }
   ],
   "source": [
    "# linear SVM w/ count vectorizor ngram\n",
    "for c in [0.01, 0.05, 0.25, 0.5, 1]:\n",
    "    svm_tv_ngram = LinearSVC(C=c, max_iter=500000)\n",
    "    svm_tv_ngram.fit(X_tv_ngram, y_train)\n",
    "    print(\"Accuracy for C = %s : %s\" % (c, accuracy_score(y_test, svm_tv_ngram.predict(X_tv_ngram_test))))"
   ]
  },
  {
   "cell_type": "code",
   "execution_count": null,
   "metadata": {},
   "outputs": [],
   "source": []
  }
 ],
 "metadata": {
  "kernelspec": {
   "display_name": "Python 3",
   "language": "python",
   "name": "python3"
  },
  "language_info": {
   "codemirror_mode": {
    "name": "ipython",
    "version": 3
   },
   "file_extension": ".py",
   "mimetype": "text/x-python",
   "name": "python",
   "nbconvert_exporter": "python",
   "pygments_lexer": "ipython3",
   "version": "3.8.6"
  }
 },
 "nbformat": 4,
 "nbformat_minor": 4
}
